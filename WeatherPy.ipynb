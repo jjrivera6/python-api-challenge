{
 "cells": [
  {
   "cell_type": "markdown",
   "metadata": {},
   "source": [
    "# WeatherPy\n",
    "----\n",
    "\n",
    "#### Note\n",
    "* Instructions have been included for each segment. You do not have to follow them exactly, but they are included to help you think through the steps."
   ]
  },
  {
   "cell_type": "code",
   "execution_count": 18,
   "metadata": {
    "scrolled": true
   },
   "outputs": [],
   "source": [
    "# Dependencies and Setup\n",
    "import matplotlib.pyplot as plt\n",
    "import pandas as pd\n",
    "import numpy as np\n",
    "import requests\n",
    "import time\n",
    "from scipy.stats import linregress\n",
    "\n",
    "# Import API key\n",
    "from api_keys import weather_api_key\n",
    "\n",
    "# Incorporated citipy to determine city based on latitude and longitude\n",
    "from citipy import citipy\n",
    "\n",
    "# Output File (CSV)\n",
    "output_data_file = \"output_data/cities.csv\"\n",
    "\n",
    "# Range of latitudes and longitudes\n",
    "lat_range = (-90, 90)\n",
    "lng_range = (-180, 180)"
   ]
  },
  {
   "cell_type": "markdown",
   "metadata": {},
   "source": [
    "## Generate Cities List"
   ]
  },
  {
   "cell_type": "code",
   "execution_count": 19,
   "metadata": {},
   "outputs": [
    {
     "data": {
      "text/plain": [
       "592"
      ]
     },
     "execution_count": 19,
     "metadata": {},
     "output_type": "execute_result"
    }
   ],
   "source": [
    "# List for holding lat_lngs and cities\n",
    "lat_lngs = []\n",
    "cities = []\n",
    "\n",
    "# Create a set of random lat and lng combinations\n",
    "lats = np.random.uniform(lat_range[0], lat_range[1], size=1500)\n",
    "lngs = np.random.uniform(lng_range[0], lng_range[1], size=1500)\n",
    "lat_lngs = zip(lats, lngs)\n",
    "\n",
    "# Identify nearest city for each lat, lng combination\n",
    "for lat_lng in lat_lngs:\n",
    "    city = citipy.nearest_city(lat_lng[0], lat_lng[1]).city_name\n",
    "    \n",
    "    # If the city is unique, then add it to a our cities list\n",
    "    if city not in cities:\n",
    "        cities.append(city)\n",
    "\n",
    "# Print the city count to confirm sufficient count\n",
    "len(cities)"
   ]
  },
  {
   "cell_type": "markdown",
   "metadata": {},
   "source": [
    "### Perform API Calls\n",
    "* Perform a weather check on each city using a series of successive API calls.\n",
    "* Include a print log of each city as it'sbeing processed (with the city number and city name).\n"
   ]
  },
  {
   "cell_type": "code",
   "execution_count": 20,
   "metadata": {},
   "outputs": [],
   "source": [
    "city_list = []\n",
    "cloud = []\n",
    "country = []\n",
    "date = []\n",
    "humidity = []\n",
    "lat = []\n",
    "lng = []\n",
    "temp = []\n",
    "wind = []\n",
    "index_counter = 0\n",
    "set_counter = 1"
   ]
  },
  {
   "cell_type": "code",
   "execution_count": 21,
   "metadata": {
    "scrolled": true
   },
   "outputs": [
    {
     "name": "stdout",
     "output_type": "stream",
     "text": [
      "Beginning Data Retrieval \n",
      "-------------------------------\n",
      "City not found. Skipping...\n",
      "Processing Record 1 of Set 1 : mangaratiba\n",
      "Processing Record 2 of Set 1 : severo-kurilsk\n",
      "Processing Record 3 of Set 1 : provideniya\n",
      "Processing Record 4 of Set 1 : new norfolk\n",
      "Processing Record 5 of Set 1 : christchurch\n",
      "Processing Record 6 of Set 1 : barrow\n",
      "Processing Record 7 of Set 1 : ponta do sol\n",
      "Processing Record 8 of Set 1 : altay\n",
      "Processing Record 9 of Set 1 : la ronge\n",
      "City not found. Skipping...\n",
      "Processing Record 10 of Set 1 : lodwar\n",
      "City not found. Skipping...\n",
      "Processing Record 11 of Set 1 : yellowknife\n",
      "Processing Record 12 of Set 1 : seoul\n",
      "Processing Record 13 of Set 1 : bengkulu\n",
      "Processing Record 14 of Set 1 : geraldton\n",
      "Processing Record 15 of Set 1 : vao\n",
      "Processing Record 16 of Set 1 : salvador\n",
      "Processing Record 17 of Set 1 : tornio\n",
      "Processing Record 18 of Set 1 : yakeshi\n",
      "Processing Record 19 of Set 1 : kahului\n",
      "Processing Record 20 of Set 1 : bluff\n",
      "Processing Record 21 of Set 1 : mataura\n",
      "Processing Record 22 of Set 1 : nanortalik\n",
      "Processing Record 23 of Set 1 : matagami\n",
      "Processing Record 24 of Set 1 : adrar\n",
      "Processing Record 25 of Set 1 : fairbanks\n",
      "Processing Record 26 of Set 1 : biak\n",
      "Processing Record 27 of Set 1 : rikitea\n",
      "Processing Record 28 of Set 1 : port elizabeth\n",
      "Processing Record 29 of Set 1 : slave lake\n",
      "Processing Record 30 of Set 1 : jamestown\n",
      "Processing Record 31 of Set 1 : siva\n",
      "Processing Record 32 of Set 1 : bouna\n",
      "Processing Record 33 of Set 1 : clyde river\n",
      "Processing Record 34 of Set 1 : mahibadhoo\n",
      "Processing Record 35 of Set 1 : cidreira\n",
      "Processing Record 36 of Set 1 : carnarvon\n",
      "Processing Record 37 of Set 1 : atuona\n",
      "Processing Record 38 of Set 1 : hithadhoo\n",
      "Processing Record 39 of Set 1 : punta arenas\n",
      "Processing Record 40 of Set 1 : albany\n",
      "Processing Record 41 of Set 1 : cape town\n",
      "Processing Record 42 of Set 1 : nioro\n",
      "Processing Record 43 of Set 1 : hermanus\n",
      "Processing Record 44 of Set 1 : taltal\n",
      "Processing Record 45 of Set 1 : tocopilla\n",
      "Processing Record 46 of Set 1 : talara\n",
      "Processing Record 47 of Set 1 : lata\n",
      "Processing Record 48 of Set 1 : darhan\n",
      "Processing Record 49 of Set 1 : terrace\n",
      "Processing Record 50 of Set 1 : atambua\n",
      "City not found. Skipping...\n",
      "Processing Record 0 of Set 2 : vaini\n",
      "Processing Record 1 of Set 2 : imeni babushkina\n",
      "Processing Record 2 of Set 2 : rafaela\n",
      "Processing Record 3 of Set 2 : ushuaia\n",
      "Processing Record 4 of Set 2 : fayaoue\n",
      "Processing Record 5 of Set 2 : kapaa\n",
      "Processing Record 6 of Set 2 : taoudenni\n",
      "Processing Record 7 of Set 2 : karasjok\n",
      "Processing Record 8 of Set 2 : srednekolymsk\n",
      "City not found. Skipping...\n",
      "Processing Record 9 of Set 2 : sitka\n",
      "Processing Record 10 of Set 2 : busselton\n",
      "Processing Record 11 of Set 2 : nouadhibou\n",
      "Processing Record 12 of Set 2 : rock sound\n",
      "Processing Record 13 of Set 2 : richards bay\n",
      "Processing Record 14 of Set 2 : thompson\n",
      "Processing Record 15 of Set 2 : kathu\n",
      "Processing Record 16 of Set 2 : pochutla\n",
      "City not found. Skipping...\n",
      "Processing Record 17 of Set 2 : daru\n",
      "Processing Record 18 of Set 2 : puerto ayora\n",
      "Processing Record 19 of Set 2 : lasa\n",
      "Processing Record 20 of Set 2 : lorengau\n",
      "Processing Record 21 of Set 2 : mahebourg\n",
      "Processing Record 22 of Set 2 : avarua\n",
      "City not found. Skipping...\n",
      "Processing Record 23 of Set 2 : ribeira grande\n",
      "Processing Record 24 of Set 2 : valparaiso\n",
      "Processing Record 25 of Set 2 : norman wells\n",
      "Processing Record 26 of Set 2 : tirano\n",
      "Processing Record 27 of Set 2 : bredasdorp\n",
      "Processing Record 28 of Set 2 : margate\n",
      "Processing Record 29 of Set 2 : hilo\n",
      "Processing Record 30 of Set 2 : ahtopol\n",
      "Processing Record 31 of Set 2 : san quintin\n",
      "Processing Record 32 of Set 2 : hays\n",
      "Processing Record 33 of Set 2 : butaritari\n",
      "Processing Record 34 of Set 2 : arraial do cabo\n",
      "Processing Record 35 of Set 2 : pocao de pedras\n",
      "Processing Record 36 of Set 2 : boyarka\n",
      "Processing Record 37 of Set 2 : qaanaaq\n",
      "Processing Record 38 of Set 2 : east london\n",
      "Processing Record 39 of Set 2 : les cayes\n",
      "Processing Record 40 of Set 2 : baracoa\n",
      "City not found. Skipping...\n",
      "Processing Record 41 of Set 2 : dikson\n",
      "Processing Record 42 of Set 2 : mantua\n",
      "Processing Record 43 of Set 2 : talnakh\n",
      "City not found. Skipping...\n",
      "Processing Record 44 of Set 2 : byron bay\n",
      "Processing Record 45 of Set 2 : husavik\n",
      "Processing Record 46 of Set 2 : puerto baquerizo moreno\n",
      "Processing Record 47 of Set 2 : tuatapere\n",
      "Processing Record 48 of Set 2 : khatanga\n",
      "Processing Record 49 of Set 2 : magadan\n",
      "Processing Record 50 of Set 2 : lazaro cardenas\n",
      "Processing Record 0 of Set 3 : sakaiminato\n",
      "Processing Record 1 of Set 3 : half moon bay\n",
      "City not found. Skipping...\n",
      "Processing Record 2 of Set 3 : kinango\n",
      "Processing Record 3 of Set 3 : hobart\n",
      "Processing Record 4 of Set 3 : zemio\n",
      "Processing Record 5 of Set 3 : acajutla\n",
      "Processing Record 6 of Set 3 : la crosse\n",
      "Processing Record 7 of Set 3 : okha\n",
      "Processing Record 8 of Set 3 : hualmay\n",
      "Processing Record 9 of Set 3 : beberibe\n",
      "Processing Record 10 of Set 3 : esperance\n",
      "Processing Record 11 of Set 3 : economy\n",
      "Processing Record 12 of Set 3 : longyearbyen\n",
      "Processing Record 13 of Set 3 : ostrovnoy\n",
      "Processing Record 14 of Set 3 : havre-saint-pierre\n",
      "Processing Record 15 of Set 3 : lityn\n",
      "Processing Record 16 of Set 3 : terekli-mekteb\n",
      "Processing Record 17 of Set 3 : makakilo city\n",
      "Processing Record 18 of Set 3 : la plata\n",
      "Processing Record 19 of Set 3 : umba\n",
      "Processing Record 20 of Set 3 : deputatskiy\n",
      "Processing Record 21 of Set 3 : severnyy\n",
      "Processing Record 22 of Set 3 : bethel\n",
      "Processing Record 23 of Set 3 : castro\n",
      "Processing Record 24 of Set 3 : jatiroto\n",
      "Processing Record 25 of Set 3 : ixtapa\n",
      "Processing Record 26 of Set 3 : victoria\n",
      "Processing Record 27 of Set 3 : fuxin\n",
      "Processing Record 28 of Set 3 : katsuura\n",
      "Processing Record 29 of Set 3 : verkhovazhye\n",
      "Processing Record 30 of Set 3 : lebu\n",
      "City not found. Skipping...\n",
      "Processing Record 31 of Set 3 : chokurdakh\n",
      "Processing Record 32 of Set 3 : antofagasta\n",
      "Processing Record 33 of Set 3 : olafsvik\n",
      "Processing Record 34 of Set 3 : tasiilaq\n",
      "Processing Record 35 of Set 3 : pisco\n",
      "Processing Record 36 of Set 3 : kaminskiy\n",
      "City not found. Skipping...\n",
      "Processing Record 37 of Set 3 : la palma\n",
      "Processing Record 38 of Set 3 : obzor\n",
      "Processing Record 39 of Set 3 : rio gallegos\n",
      "Processing Record 40 of Set 3 : pevek\n",
      "Processing Record 41 of Set 3 : hovd\n",
      "Processing Record 42 of Set 3 : bilibino\n",
      "City not found. Skipping...\n",
      "Processing Record 43 of Set 3 : upernavik\n",
      "City not found. Skipping...\n",
      "City not found. Skipping...\n",
      "Processing Record 44 of Set 3 : fairlie\n",
      "Processing Record 45 of Set 3 : gizo\n",
      "Processing Record 46 of Set 3 : wabana\n",
      "Processing Record 47 of Set 3 : cherskiy\n",
      "Processing Record 48 of Set 3 : deer lake\n",
      "Processing Record 49 of Set 3 : havoysund\n",
      "Processing Record 50 of Set 3 : mount pleasant\n",
      "Processing Record 0 of Set 4 : saint-pierre\n",
      "Processing Record 1 of Set 4 : khani\n",
      "Processing Record 2 of Set 4 : waingapu\n",
      "Processing Record 3 of Set 4 : jalu\n",
      "Processing Record 4 of Set 4 : oistins\n",
      "Processing Record 5 of Set 4 : georgetown\n",
      "Processing Record 6 of Set 4 : saldanha\n",
      "Processing Record 7 of Set 4 : timbiqui\n",
      "Processing Record 8 of Set 4 : sabha\n",
      "Processing Record 9 of Set 4 : faanui\n",
      "Processing Record 10 of Set 4 : luderitz\n",
      "Processing Record 11 of Set 4 : ilulissat\n",
      "Processing Record 12 of Set 4 : mudanjiang\n",
      "Processing Record 13 of Set 4 : aklavik\n",
      "Processing Record 14 of Set 4 : abu dhabi\n",
      "City not found. Skipping...\n",
      "City not found. Skipping...\n",
      "Processing Record 15 of Set 4 : tuy hoa\n",
      "Processing Record 16 of Set 4 : porosozero\n",
      "Processing Record 17 of Set 4 : pacific grove\n",
      "City not found. Skipping...\n",
      "Processing Record 18 of Set 4 : nikolskoye\n",
      "Processing Record 19 of Set 4 : takoradi\n",
      "Processing Record 20 of Set 4 : leua\n",
      "Processing Record 21 of Set 4 : buala\n",
      "Processing Record 22 of Set 4 : tonala\n",
      "Processing Record 23 of Set 4 : cabo san lucas\n",
      "Processing Record 24 of Set 4 : grenville\n",
      "Processing Record 25 of Set 4 : balkhash\n",
      "Processing Record 26 of Set 4 : gazojak\n",
      "Processing Record 27 of Set 4 : soresina\n",
      "Processing Record 28 of Set 4 : pauini\n",
      "Processing Record 29 of Set 4 : pandamatenga\n",
      "Processing Record 30 of Set 4 : saint-philippe\n",
      "Processing Record 31 of Set 4 : tuktoyaktuk\n",
      "Processing Record 32 of Set 4 : karratha\n",
      "Processing Record 33 of Set 4 : klaksvik\n"
     ]
    },
    {
     "name": "stdout",
     "output_type": "stream",
     "text": [
      "Processing Record 34 of Set 4 : show low\n",
      "Processing Record 35 of Set 4 : gamba\n",
      "Processing Record 36 of Set 4 : fos-sur-mer\n",
      "Processing Record 37 of Set 4 : oudtshoorn\n",
      "Processing Record 38 of Set 4 : kaitangata\n",
      "Processing Record 39 of Set 4 : podgornoye\n",
      "City not found. Skipping...\n",
      "Processing Record 40 of Set 4 : tiznit\n",
      "Processing Record 41 of Set 4 : north bend\n",
      "Processing Record 42 of Set 4 : egvekinot\n",
      "Processing Record 43 of Set 4 : kitimat\n",
      "Processing Record 44 of Set 4 : nyandoma\n",
      "Processing Record 45 of Set 4 : san andres\n",
      "Processing Record 46 of Set 4 : port lincoln\n",
      "Processing Record 47 of Set 4 : ancud\n",
      "Processing Record 48 of Set 4 : alofi\n",
      "Processing Record 49 of Set 4 : lagoa\n",
      "City not found. Skipping...\n",
      "Processing Record 50 of Set 4 : nizhnyaya tura\n",
      "Processing Record 0 of Set 5 : yumen\n",
      "Processing Record 1 of Set 5 : dwarka\n",
      "Processing Record 2 of Set 5 : comodoro rivadavia\n",
      "Processing Record 3 of Set 5 : kiyasovo\n",
      "Processing Record 4 of Set 5 : port-gentil\n",
      "Processing Record 5 of Set 5 : mumford\n",
      "Processing Record 6 of Set 5 : vestmannaeyjar\n",
      "Processing Record 7 of Set 5 : berlevag\n",
      "Processing Record 8 of Set 5 : bubaque\n",
      "Processing Record 9 of Set 5 : dunedin\n",
      "Processing Record 10 of Set 5 : conceicao do araguaia\n",
      "Processing Record 11 of Set 5 : mehamn\n",
      "Processing Record 12 of Set 5 : eyl\n",
      "Processing Record 13 of Set 5 : nago\n",
      "Processing Record 14 of Set 5 : basco\n",
      "Processing Record 15 of Set 5 : nizhniy bestyakh\n",
      "Processing Record 16 of Set 5 : lagunas\n",
      "Processing Record 17 of Set 5 : sonari\n",
      "Processing Record 18 of Set 5 : antalaha\n",
      "Processing Record 19 of Set 5 : port hedland\n",
      "Processing Record 20 of Set 5 : amuntai\n",
      "Processing Record 21 of Set 5 : marawi\n",
      "City not found. Skipping...\n",
      "Processing Record 22 of Set 5 : nome\n",
      "Processing Record 23 of Set 5 : qaqortoq\n",
      "Processing Record 24 of Set 5 : chapais\n",
      "Processing Record 25 of Set 5 : mar del plata\n",
      "Processing Record 26 of Set 5 : bushehr\n",
      "Processing Record 27 of Set 5 : port alfred\n",
      "Processing Record 28 of Set 5 : tura\n",
      "Processing Record 29 of Set 5 : santa vitoria do palmar\n",
      "Processing Record 30 of Set 5 : toora-khem\n",
      "Processing Record 31 of Set 5 : tuxpan\n",
      "Processing Record 32 of Set 5 : bathsheba\n",
      "Processing Record 33 of Set 5 : iwanai\n",
      "City not found. Skipping...\n",
      "Processing Record 34 of Set 5 : kedrovyy\n",
      "City not found. Skipping...\n",
      "Processing Record 35 of Set 5 : houma\n",
      "Processing Record 36 of Set 5 : qidong\n",
      "Processing Record 37 of Set 5 : shingu\n",
      "Processing Record 38 of Set 5 : lompoc\n",
      "Processing Record 39 of Set 5 : ahipara\n",
      "Processing Record 40 of Set 5 : alihe\n",
      "Processing Record 41 of Set 5 : saskylakh\n",
      "Processing Record 42 of Set 5 : namibe\n",
      "City not found. Skipping...\n",
      "Processing Record 43 of Set 5 : cranbrook\n",
      "Processing Record 44 of Set 5 : paamiut\n",
      "Processing Record 45 of Set 5 : hasaki\n",
      "Processing Record 46 of Set 5 : praya\n",
      "Processing Record 47 of Set 5 : senekal\n",
      "Processing Record 48 of Set 5 : agua verde\n",
      "Processing Record 49 of Set 5 : havre\n",
      "Processing Record 50 of Set 5 : placerville\n",
      "Processing Record 0 of Set 6 : maniitsoq\n",
      "Processing Record 1 of Set 6 : sao paulo de olivenca\n",
      "Processing Record 2 of Set 6 : acarau\n",
      "Processing Record 3 of Set 6 : torbay\n",
      "Processing Record 4 of Set 6 : souillac\n",
      "Processing Record 5 of Set 6 : tessalit\n",
      "Processing Record 6 of Set 6 : veraval\n",
      "Processing Record 7 of Set 6 : tiksi\n",
      "Processing Record 8 of Set 6 : kailua\n",
      "Processing Record 9 of Set 6 : kenai\n",
      "Processing Record 10 of Set 6 : zhezkazgan\n",
      "Processing Record 11 of Set 6 : mouila\n",
      "Processing Record 12 of Set 6 : komsomolskiy\n",
      "Processing Record 13 of Set 6 : kindu\n",
      "Processing Record 14 of Set 6 : nabire\n",
      "Processing Record 15 of Set 6 : sambava\n",
      "Processing Record 16 of Set 6 : mayo\n",
      "Processing Record 17 of Set 6 : porbandar\n",
      "Processing Record 18 of Set 6 : ust-barguzin\n",
      "City not found. Skipping...\n",
      "Processing Record 19 of Set 6 : bulalacao\n",
      "City not found. Skipping...\n",
      "Processing Record 20 of Set 6 : fort nelson\n",
      "Processing Record 21 of Set 6 : witu\n",
      "Processing Record 22 of Set 6 : bonavista\n",
      "Processing Record 23 of Set 6 : kloulklubed\n",
      "Processing Record 24 of Set 6 : zaokskiy\n",
      "Processing Record 25 of Set 6 : iracoubo\n",
      "Processing Record 26 of Set 6 : hobyo\n",
      "City not found. Skipping...\n",
      "Processing Record 27 of Set 6 : ranfurly\n",
      "Processing Record 28 of Set 6 : dustlik\n",
      "City not found. Skipping...\n",
      "Processing Record 29 of Set 6 : disraeli\n",
      "Processing Record 30 of Set 6 : sisimiut\n",
      "Processing Record 31 of Set 6 : chuy\n",
      "Processing Record 32 of Set 6 : bambous virieux\n",
      "City not found. Skipping...\n",
      "Processing Record 33 of Set 6 : correntina\n",
      "Processing Record 34 of Set 6 : hambantota\n",
      "Processing Record 35 of Set 6 : sola\n",
      "Processing Record 36 of Set 6 : grand gaube\n",
      "Processing Record 37 of Set 6 : ayan\n",
      "Processing Record 38 of Set 6 : pionerskiy\n",
      "City not found. Skipping...\n",
      "Processing Record 39 of Set 6 : galle\n",
      "Processing Record 40 of Set 6 : lasem\n",
      "Processing Record 41 of Set 6 : cockburn town\n",
      "Processing Record 42 of Set 6 : novovarshavka\n",
      "Processing Record 43 of Set 6 : luwuk\n",
      "Processing Record 44 of Set 6 : viedma\n",
      "Processing Record 45 of Set 6 : leningradskiy\n",
      "Processing Record 46 of Set 6 : challakere\n",
      "Processing Record 47 of Set 6 : ruteng\n",
      "Processing Record 48 of Set 6 : bud\n",
      "City not found. Skipping...\n",
      "Processing Record 49 of Set 6 : san patricio\n",
      "Processing Record 50 of Set 6 : whitefish\n",
      "Processing Record 0 of Set 7 : paso de los toros\n",
      "Processing Record 1 of Set 7 : constitucion\n",
      "Processing Record 2 of Set 7 : cossato\n",
      "Processing Record 3 of Set 7 : nattarasankottai\n",
      "Processing Record 4 of Set 7 : hakkari\n",
      "Processing Record 5 of Set 7 : surt\n",
      "Processing Record 6 of Set 7 : whitehorse\n",
      "Processing Record 7 of Set 7 : san joaquin\n",
      "City not found. Skipping...\n",
      "Processing Record 8 of Set 7 : charlottetown\n",
      "Processing Record 9 of Set 7 : orlik\n",
      "Processing Record 10 of Set 7 : kondinskoye\n",
      "Processing Record 11 of Set 7 : san carlos de bariloche\n",
      "Processing Record 12 of Set 7 : turkistan\n",
      "City not found. Skipping...\n",
      "Processing Record 13 of Set 7 : petropavlovsk-kamchatskiy\n",
      "Processing Record 14 of Set 7 : banda aceh\n",
      "Processing Record 15 of Set 7 : casian\n",
      "Processing Record 16 of Set 7 : nizwa\n",
      "Processing Record 17 of Set 7 : scarborough\n",
      "City not found. Skipping...\n",
      "City not found. Skipping...\n",
      "City not found. Skipping...\n",
      "Processing Record 18 of Set 7 : victor harbor\n",
      "Processing Record 19 of Set 7 : lisieux\n",
      "Processing Record 20 of Set 7 : rafai\n",
      "Processing Record 21 of Set 7 : quelimane\n",
      "Processing Record 22 of Set 7 : tonj\n",
      "Processing Record 23 of Set 7 : song phi nong\n",
      "Processing Record 24 of Set 7 : roald\n",
      "Processing Record 25 of Set 7 : peleduy\n",
      "Processing Record 26 of Set 7 : shaowu\n",
      "City not found. Skipping...\n",
      "Processing Record 27 of Set 7 : iqaluit\n",
      "Processing Record 28 of Set 7 : hoorn\n",
      "Processing Record 29 of Set 7 : hoopstad\n",
      "City not found. Skipping...\n",
      "Processing Record 30 of Set 7 : sokolo\n",
      "Processing Record 31 of Set 7 : khanpur\n",
      "Processing Record 32 of Set 7 : peniche\n",
      "Processing Record 33 of Set 7 : manjacaze\n",
      "Processing Record 34 of Set 7 : san lawrenz\n",
      "Processing Record 35 of Set 7 : carrollton\n",
      "Processing Record 36 of Set 7 : bermejo\n",
      "Processing Record 37 of Set 7 : hamilton\n",
      "Processing Record 38 of Set 7 : la paz\n",
      "Processing Record 39 of Set 7 : desaguadero\n",
      "Processing Record 40 of Set 7 : nola\n",
      "Processing Record 41 of Set 7 : saint anthony\n",
      "Processing Record 42 of Set 7 : kruisfontein\n",
      "Processing Record 43 of Set 7 : tigil\n",
      "Processing Record 44 of Set 7 : kieta\n",
      "Processing Record 45 of Set 7 : eureka\n",
      "Processing Record 46 of Set 7 : airai\n",
      "Processing Record 47 of Set 7 : kavaratti\n",
      "Processing Record 48 of Set 7 : calvinia\n",
      "Processing Record 49 of Set 7 : norfolk\n",
      "Processing Record 50 of Set 7 : grindavik\n",
      "Processing Record 0 of Set 8 : iquitos\n",
      "Processing Record 1 of Set 8 : meadow lake\n",
      "Processing Record 2 of Set 8 : aljezur\n",
      "Processing Record 3 of Set 8 : vardo\n",
      "Processing Record 4 of Set 8 : kodinsk\n",
      "Processing Record 5 of Set 8 : bose\n",
      "Processing Record 6 of Set 8 : kodiak\n",
      "Processing Record 7 of Set 8 : camabatela\n",
      "Processing Record 8 of Set 8 : blenheim\n",
      "Processing Record 9 of Set 8 : medzilaborce\n",
      "Processing Record 10 of Set 8 : fortuna\n",
      "Processing Record 11 of Set 8 : linjiang\n",
      "Processing Record 12 of Set 8 : coxim\n",
      "Processing Record 13 of Set 8 : dawson creek\n",
      "Processing Record 14 of Set 8 : manta\n",
      "Processing Record 15 of Set 8 : barcelos\n"
     ]
    },
    {
     "name": "stdout",
     "output_type": "stream",
     "text": [
      "Processing Record 16 of Set 8 : teluk nibung\n",
      "Processing Record 17 of Set 8 : winton\n",
      "Processing Record 18 of Set 8 : gobabis\n",
      "Processing Record 19 of Set 8 : faya\n",
      "Processing Record 20 of Set 8 : narsaq\n",
      "City not found. Skipping...\n",
      "Processing Record 21 of Set 8 : san juan nepomuceno\n",
      "Processing Record 22 of Set 8 : tilichiki\n",
      "Processing Record 23 of Set 8 : ilo\n",
      "Processing Record 24 of Set 8 : natal\n",
      "Processing Record 25 of Set 8 : lucapa\n",
      "Processing Record 26 of Set 8 : sosnovka\n",
      "Processing Record 27 of Set 8 : nizhniy tsasuchey\n",
      "Processing Record 28 of Set 8 : najran\n",
      "Processing Record 29 of Set 8 : pompeu\n",
      "Processing Record 30 of Set 8 : nuuk\n",
      "Processing Record 31 of Set 8 : nantucket\n",
      "Processing Record 32 of Set 8 : port-cartier\n",
      "Processing Record 33 of Set 8 : onega\n",
      "Processing Record 34 of Set 8 : rakiv lis\n",
      "Processing Record 35 of Set 8 : bougouni\n",
      "Processing Record 36 of Set 8 : jumla\n",
      "Processing Record 37 of Set 8 : vila velha\n",
      "Processing Record 38 of Set 8 : pangody\n",
      "Processing Record 39 of Set 8 : russell\n",
      "Processing Record 40 of Set 8 : fukue\n",
      "Processing Record 41 of Set 8 : asarganj\n",
      "Processing Record 42 of Set 8 : privolnyy\n",
      "Processing Record 43 of Set 8 : kirakira\n",
      "Processing Record 44 of Set 8 : laguna\n",
      "Processing Record 45 of Set 8 : prestea\n",
      "Processing Record 46 of Set 8 : chupa\n",
      "Processing Record 47 of Set 8 : juneau\n",
      "City not found. Skipping...\n",
      "Processing Record 48 of Set 8 : worthington\n",
      "City not found. Skipping...\n",
      "City not found. Skipping...\n",
      "Processing Record 49 of Set 8 : leh\n",
      "Processing Record 50 of Set 8 : bondoukou\n",
      "Processing Record 0 of Set 9 : wana\n",
      "Processing Record 1 of Set 9 : mbuji-mayi\n",
      "Processing Record 2 of Set 9 : ulaangom\n",
      "City not found. Skipping...\n",
      "Processing Record 3 of Set 9 : tual\n",
      "Processing Record 4 of Set 9 : loksa\n",
      "Processing Record 5 of Set 9 : kyra\n",
      "Processing Record 6 of Set 9 : simpang\n",
      "Processing Record 7 of Set 9 : kavieng\n",
      "Processing Record 8 of Set 9 : unai\n",
      "Processing Record 9 of Set 9 : quatre cocos\n",
      "Processing Record 10 of Set 9 : bairiki\n",
      "Processing Record 11 of Set 9 : alyangula\n",
      "Processing Record 12 of Set 9 : saint-leu\n",
      "Processing Record 13 of Set 9 : birao\n",
      "Processing Record 14 of Set 9 : pag\n",
      "Processing Record 15 of Set 9 : gamut\n",
      "Processing Record 16 of Set 9 : kirovskiy\n",
      "Processing Record 17 of Set 9 : port blair\n",
      "Processing Record 18 of Set 9 : istisu\n",
      "Processing Record 19 of Set 9 : boa vista\n",
      "Processing Record 20 of Set 9 : roswell\n",
      "Processing Record 21 of Set 9 : sioux lookout\n",
      "Processing Record 22 of Set 9 : bella union\n",
      "Processing Record 23 of Set 9 : port macquarie\n",
      "City not found. Skipping...\n",
      "Processing Record 24 of Set 9 : batemans bay\n",
      "Processing Record 25 of Set 9 : mtambile\n",
      "Processing Record 26 of Set 9 : itacare\n",
      "Processing Record 27 of Set 9 : panguipulli\n",
      "City not found. Skipping...\n",
      "City not found. Skipping...\n",
      "Processing Record 28 of Set 9 : sinop\n",
      "Processing Record 29 of Set 9 : ottawa\n",
      "Processing Record 30 of Set 9 : saint-augustin\n",
      "Processing Record 31 of Set 9 : rumphi\n",
      "City not found. Skipping...\n",
      "Processing Record 32 of Set 9 : guanica\n",
      "City not found. Skipping...\n",
      "Processing Record 33 of Set 9 : jabinyanah\n",
      "Processing Record 34 of Set 9 : cap malheureux\n",
      "Processing Record 35 of Set 9 : bossangoa\n",
      "Processing Record 36 of Set 9 : avera\n",
      "Processing Record 37 of Set 9 : palora\n",
      "Processing Record 38 of Set 9 : zhigansk\n",
      "Processing Record 39 of Set 9 : valday\n",
      "Processing Record 40 of Set 9 : mwinilunga\n",
      "Processing Record 41 of Set 9 : jinchang\n",
      "City not found. Skipping...\n",
      "Processing Record 42 of Set 9 : phalombe\n",
      "Processing Record 43 of Set 9 : sao miguel do araguaia\n",
      "Processing Record 44 of Set 9 : necochea\n",
      "Processing Record 45 of Set 9 : mayumba\n",
      "Processing Record 46 of Set 9 : jati\n",
      "City not found. Skipping...\n",
      "Processing Record 47 of Set 9 : mountain home\n",
      "Processing Record 48 of Set 9 : korla\n",
      "Processing Record 49 of Set 9 : usinsk\n",
      "Processing Record 50 of Set 9 : mount isa\n",
      "Processing Record 0 of Set 10 : kyzyl-suu\n",
      "Processing Record 1 of Set 10 : otradnoye\n",
      "Processing Record 2 of Set 10 : prince rupert\n",
      "Processing Record 3 of Set 10 : jaypur\n",
      "City not found. Skipping...\n",
      "Processing Record 4 of Set 10 : dolores\n",
      "Processing Record 5 of Set 10 : lyuban\n",
      "Processing Record 6 of Set 10 : tevaitoa\n",
      "Processing Record 7 of Set 10 : puerto cabello\n",
      "Processing Record 8 of Set 10 : port augusta\n",
      "Processing Record 9 of Set 10 : hede\n",
      "Processing Record 10 of Set 10 : kikwit\n",
      "Processing Record 11 of Set 10 : swansea\n",
      "Processing Record 12 of Set 10 : arman\n",
      "Processing Record 13 of Set 10 : asau\n",
      "Processing Record 14 of Set 10 : alpena\n",
      "Processing Record 15 of Set 10 : tucuma\n",
      "Processing Record 16 of Set 10 : lujan\n",
      "Processing Record 17 of Set 10 : takaungu\n",
      "Processing Record 18 of Set 10 : san ramon\n",
      "City not found. Skipping...\n",
      "Processing Record 19 of Set 10 : yulara\n",
      "Processing Record 20 of Set 10 : calamar\n",
      "Processing Record 21 of Set 10 : raha\n",
      "Processing Record 22 of Set 10 : baruun-urt\n",
      "Processing Record 23 of Set 10 : bara\n",
      "Processing Record 24 of Set 10 : cambrai\n",
      "Processing Record 25 of Set 10 : pangnirtung\n",
      "Processing Record 26 of Set 10 : atbasar\n",
      "Processing Record 27 of Set 10 : paita\n",
      "Processing Record 28 of Set 10 : yerofey pavlovich\n",
      "Processing Record 29 of Set 10 : zonguldak\n",
      "Processing Record 30 of Set 10 : coquimbo\n",
      "Processing Record 31 of Set 10 : tucupita\n",
      "Processing Record 32 of Set 10 : lively\n",
      "Processing Record 33 of Set 10 : lock haven\n",
      "Processing Record 34 of Set 10 : ozernovskiy\n",
      "Processing Record 35 of Set 10 : santa maria\n",
      "Processing Record 36 of Set 10 : marigot\n",
      "Processing Record 37 of Set 10 : acapulco\n",
      "Processing Record 38 of Set 10 : shaunavon\n",
      "Processing Record 39 of Set 10 : hirara\n",
      "City not found. Skipping...\n",
      "Processing Record 40 of Set 10 : otjiwarongo\n",
      "Processing Record 41 of Set 10 : coahuayana\n",
      "Processing Record 42 of Set 10 : guerrero negro\n",
      "Processing Record 43 of Set 10 : great falls\n",
      "Processing Record 44 of Set 10 : rocha\n",
      "Processing Record 45 of Set 10 : cabra\n",
      "Processing Record 46 of Set 10 : brenham\n",
      "Processing Record 47 of Set 10 : sakakah\n",
      "Processing Record 48 of Set 10 : bambanglipuro\n",
      "Processing Record 49 of Set 10 : codrington\n",
      "City not found. Skipping...\n",
      "Processing Record 50 of Set 10 : nichinan\n",
      "City not found. Skipping...\n",
      "Processing Record 0 of Set 11 : olenino\n",
      "Processing Record 1 of Set 11 : katangli\n",
      "Processing Record 2 of Set 11 : maarianhamina\n",
      "Processing Record 3 of Set 11 : muisne\n",
      "Processing Record 4 of Set 11 : vikhorevka\n",
      "City not found. Skipping...\n",
      "Processing Record 5 of Set 11 : santa rosa\n",
      "Processing Record 6 of Set 11 : inirida\n",
      "Processing Record 7 of Set 11 : labytnangi\n",
      "Processing Record 8 of Set 11 : poum\n",
      "Processing Record 9 of Set 11 : neiafu\n",
      "Processing Record 10 of Set 11 : bolpur\n",
      "Processing Record 11 of Set 11 : kollam\n",
      "Processing Record 12 of Set 11 : aqtobe\n",
      "Processing Record 13 of Set 11 : lamar\n",
      "Processing Record 14 of Set 11 : dalvik\n",
      "Processing Record 15 of Set 11 : saint-joseph\n",
      "Processing Record 16 of Set 11 : yeppoon\n",
      "Processing Record 17 of Set 11 : mogadishu\n",
      "Processing Record 18 of Set 11 : lovozero\n",
      "Processing Record 19 of Set 11 : goderich\n",
      "Processing Record 20 of Set 11 : tromso\n",
      "Processing Record 21 of Set 11 : honiara\n",
      "Processing Record 22 of Set 11 : augusto correa\n",
      "Processing Record 23 of Set 11 : kijang\n",
      "Processing Record 24 of Set 11 : zhuhai\n",
      "Processing Record 25 of Set 11 : wieliczka\n",
      "Processing Record 26 of Set 11 : monticello\n",
      "-------------------------------\n",
      "Data Retrieval Complete\n",
      "-------------------------------\n"
     ]
    }
   ],
   "source": [
    "print(\"Beginning Data Retrieval \")\n",
    "print(\"-------------------------------\")\n",
    "\n",
    "base_url = \"http://api.openweathermap.org/data/2.5/weather?\"\n",
    "query_url = f\"{base_url}appid={weather_api_key}&q=\"\n",
    "\n",
    "for index, city in enumerate(cities, start = 1):\n",
    "    try:\n",
    "        response = requests.get(query_url + city).json()\n",
    "        city_list.append(response[\"name\"])\n",
    "        cloud.append(response[\"clouds\"][\"all\"])\n",
    "        country.append(response[\"sys\"][\"country\"])\n",
    "        date.append(response[\"dt\"])\n",
    "        humidity.append(response[\"main\"][\"humidity\"])\n",
    "        lat.append(response[\"coord\"][\"lat\"])\n",
    "        lng.append(response[\"coord\"][\"lon\"])\n",
    "        temp.append(response['main']['temp_max'])\n",
    "        wind.append(response[\"wind\"][\"speed\"])\n",
    "        if index_counter > 49:\n",
    "            index_counter = 0\n",
    "            set_counter = set_counter + 1\n",
    "        \n",
    "        else:\n",
    "            index_counter = index_counter + 1\n",
    "        time.sleep(1)\n",
    "        \n",
    "        print(f\"Processing Record {index_counter} of Set {set_counter} : {city}\")\n",
    "        \n",
    "    except(KeyError, IndexError):\n",
    "        print(\"City not found. Skipping...\")\n",
    "        \n",
    "print(\"-------------------------------\")\n",
    "print(\"Data Retrieval Complete\")\n",
    "print(\"-------------------------------\")"
   ]
  },
  {
   "cell_type": "markdown",
   "metadata": {},
   "source": [
    "### Convert Raw Data to DataFrame\n",
    "* Export the city data into a .csv.\n",
    "* Display the DataFrame"
   ]
  },
  {
   "cell_type": "code",
   "execution_count": 23,
   "metadata": {},
   "outputs": [
    {
     "data": {
      "text/html": [
       "<div>\n",
       "<style scoped>\n",
       "    .dataframe tbody tr th:only-of-type {\n",
       "        vertical-align: middle;\n",
       "    }\n",
       "\n",
       "    .dataframe tbody tr th {\n",
       "        vertical-align: top;\n",
       "    }\n",
       "\n",
       "    .dataframe thead th {\n",
       "        text-align: right;\n",
       "    }\n",
       "</style>\n",
       "<table border=\"1\" class=\"dataframe\">\n",
       "  <thead>\n",
       "    <tr style=\"text-align: right;\">\n",
       "      <th></th>\n",
       "      <th>City</th>\n",
       "      <th>Lat</th>\n",
       "      <th>Lng</th>\n",
       "      <th>Max Temp</th>\n",
       "      <th>Humidity</th>\n",
       "      <th>Cloudiness</th>\n",
       "      <th>Wind Speed</th>\n",
       "      <th>Country</th>\n",
       "      <th>Date</th>\n",
       "    </tr>\n",
       "  </thead>\n",
       "  <tbody>\n",
       "    <tr>\n",
       "      <th>0</th>\n",
       "      <td>Mangaratiba</td>\n",
       "      <td>-22.9597</td>\n",
       "      <td>-44.0406</td>\n",
       "      <td>294.28</td>\n",
       "      <td>89</td>\n",
       "      <td>100</td>\n",
       "      <td>0.78</td>\n",
       "      <td>BR</td>\n",
       "      <td>1635228123</td>\n",
       "    </tr>\n",
       "    <tr>\n",
       "      <th>1</th>\n",
       "      <td>Severo-Kuril'sk</td>\n",
       "      <td>50.6789</td>\n",
       "      <td>156.1250</td>\n",
       "      <td>280.76</td>\n",
       "      <td>86</td>\n",
       "      <td>25</td>\n",
       "      <td>6.72</td>\n",
       "      <td>RU</td>\n",
       "      <td>1635228125</td>\n",
       "    </tr>\n",
       "    <tr>\n",
       "      <th>2</th>\n",
       "      <td>Provideniya</td>\n",
       "      <td>64.3833</td>\n",
       "      <td>-173.3000</td>\n",
       "      <td>266.21</td>\n",
       "      <td>58</td>\n",
       "      <td>75</td>\n",
       "      <td>4.00</td>\n",
       "      <td>RU</td>\n",
       "      <td>1635228126</td>\n",
       "    </tr>\n",
       "    <tr>\n",
       "      <th>3</th>\n",
       "      <td>New Norfolk</td>\n",
       "      <td>-42.7826</td>\n",
       "      <td>147.0587</td>\n",
       "      <td>290.31</td>\n",
       "      <td>50</td>\n",
       "      <td>2</td>\n",
       "      <td>0.45</td>\n",
       "      <td>AU</td>\n",
       "      <td>1635228128</td>\n",
       "    </tr>\n",
       "    <tr>\n",
       "      <th>4</th>\n",
       "      <td>Christchurch</td>\n",
       "      <td>-43.5333</td>\n",
       "      <td>172.6333</td>\n",
       "      <td>288.68</td>\n",
       "      <td>85</td>\n",
       "      <td>90</td>\n",
       "      <td>0.45</td>\n",
       "      <td>NZ</td>\n",
       "      <td>1635228002</td>\n",
       "    </tr>\n",
       "  </tbody>\n",
       "</table>\n",
       "</div>"
      ],
      "text/plain": [
       "              City      Lat       Lng  Max Temp  Humidity  Cloudiness  \\\n",
       "0      Mangaratiba -22.9597  -44.0406    294.28        89         100   \n",
       "1  Severo-Kuril'sk  50.6789  156.1250    280.76        86          25   \n",
       "2      Provideniya  64.3833 -173.3000    266.21        58          75   \n",
       "3      New Norfolk -42.7826  147.0587    290.31        50           2   \n",
       "4     Christchurch -43.5333  172.6333    288.68        85          90   \n",
       "\n",
       "   Wind Speed Country        Date  \n",
       "0        0.78      BR  1635228123  \n",
       "1        6.72      RU  1635228125  \n",
       "2        4.00      RU  1635228126  \n",
       "3        0.45      AU  1635228128  \n",
       "4        0.45      NZ  1635228002  "
      ]
     },
     "execution_count": 23,
     "metadata": {},
     "output_type": "execute_result"
    }
   ],
   "source": [
    "weatherdf = pd.DataFrame({\n",
    "    \"City\": city_list,\n",
    "    \"Lat\": lat,\n",
    "    \"Lng\": lng,\n",
    "    \"Max Temp\": temp,\n",
    "    \"Humidity\": humidity,\n",
    "    \"Cloudiness\": cloud,\n",
    "    \"Wind Speed\": wind,\n",
    "    \"Country\": country,\n",
    "    \"Date\": date\n",
    "    })\n",
    "weatherdf.head()"
   ]
  },
  {
   "cell_type": "code",
   "execution_count": 26,
   "metadata": {},
   "outputs": [
    {
     "name": "stdout",
     "output_type": "stream",
     "text": [
      "<class 'pandas.core.frame.DataFrame'>\n",
      "RangeIndex: 536 entries, 0 to 535\n",
      "Data columns (total 9 columns):\n",
      " #   Column      Non-Null Count  Dtype  \n",
      "---  ------      --------------  -----  \n",
      " 0   City        536 non-null    object \n",
      " 1   Lat         536 non-null    float64\n",
      " 2   Lng         536 non-null    float64\n",
      " 3   Max Temp    536 non-null    float64\n",
      " 4   Humidity    536 non-null    int64  \n",
      " 5   Cloudiness  536 non-null    int64  \n",
      " 6   Wind Speed  536 non-null    float64\n",
      " 7   Country     536 non-null    object \n",
      " 8   Date        536 non-null    int64  \n",
      "dtypes: float64(4), int64(3), object(2)\n",
      "memory usage: 37.8+ KB\n"
     ]
    }
   ],
   "source": [
    "weatherdf.info()"
   ]
  },
  {
   "cell_type": "code",
   "execution_count": 28,
   "metadata": {},
   "outputs": [],
   "source": [
    "weatherdf.to_csv(\"cities.csv\", index=False)"
   ]
  },
  {
   "cell_type": "markdown",
   "metadata": {},
   "source": [
    "## Inspect the data and remove the cities where the humidity > 100%.\n",
    "----\n",
    "Skip this step if there are no cities that have humidity > 100%. "
   ]
  },
  {
   "cell_type": "code",
   "execution_count": 40,
   "metadata": {},
   "outputs": [
    {
     "data": {
      "text/plain": [
       "0"
      ]
     },
     "execution_count": 40,
     "metadata": {},
     "output_type": "execute_result"
    }
   ],
   "source": [
    "#humidity_df = (weatherdf[\"Humidity\"] >= 100) == True\n",
    "#humidity_df\n",
    "\n",
    "over_hundred = weatherdf.loc[weatherdf[\"Humidity\"] > 100]\n",
    "len(over_hundred)"
   ]
  },
  {
   "cell_type": "code",
   "execution_count": 41,
   "metadata": {},
   "outputs": [
    {
     "name": "stdout",
     "output_type": "stream",
     "text": [
      "There are no cities with humidity over 100%\n"
     ]
    }
   ],
   "source": [
    "#  Get the indices of cities that have humidity over 100%.\n",
    "print(\"There are no cities with humidity over 100%\")"
   ]
  },
  {
   "cell_type": "markdown",
   "metadata": {},
   "source": [
    "## Plotting the Data\n",
    "* Use proper labeling of the plots using plot titles (including date of analysis) and axes labels.\n",
    "* Save the plotted figures as .pngs."
   ]
  },
  {
   "cell_type": "markdown",
   "metadata": {},
   "source": [
    "## Latitude vs. Temperature Plot"
   ]
  },
  {
   "cell_type": "code",
   "execution_count": 47,
   "metadata": {
    "scrolled": true
   },
   "outputs": [
    {
     "data": {
      "image/png": "[encoded data removed]",
      "text/plain": [
       "<Figure size 432x288 with 1 Axes>"
      ]
     },
     "metadata": {
      "needs_background": "light"
     },
     "output_type": "display_data"
    }
   ],
   "source": [
    "plt.scatter(weatherdf[\"Lat\"], weatherdf[\"Max Temp\"], color = \"blue\")\n",
    "plt.title(\"City Latitude vs Max Temperature\")\n",
    "plt.xlabel(\"Latitude\")\n",
    "plt.ylabel(\"Max Temp\")\n",
    "plt.grid()\n",
    "plt.savefig(\"Images/City Latitude vs Max Temperature.png\")"
   ]
  },
  {
   "cell_type": "markdown",
   "metadata": {},
   "source": [
    "## Latitude vs. Humidity Plot"
   ]
  },
  {
   "cell_type": "code",
   "execution_count": 48,
   "metadata": {},
   "outputs": [
    {
     "data": {
      "image/png": "[encoded data removed]",
      "text/plain": [
       "<Figure size 432x288 with 1 Axes>"
      ]
     },
     "metadata": {
      "needs_background": "light"
     },
     "output_type": "display_data"
    }
   ],
   "source": [
    "plt.scatter(weatherdf[\"Lat\"], weatherdf[\"Humidity\"], color = \"blue\")\n",
    "plt.title(\"City Latitude vs Humidity\")\n",
    "plt.xlabel(\"Latitude\")\n",
    "plt.ylabel(\"Humidity (%)\")\n",
    "plt.grid()\n",
    "plt.savefig(\"Images/City Latitude vs Humidity.png\")"
   ]
  },
  {
   "cell_type": "markdown",
   "metadata": {},
   "source": [
    "## Latitude vs. Cloudiness Plot"
   ]
  },
  {
   "cell_type": "code",
   "execution_count": 50,
   "metadata": {},
   "outputs": [
    {
     "data": {
      "image/png": "[encoded data removed]",
      "text/plain": [
       "<Figure size 432x288 with 1 Axes>"
      ]
     },
     "metadata": {
      "needs_background": "light"
     },
     "output_type": "display_data"
    }
   ],
   "source": [
    "plt.scatter(weatherdf[\"Lat\"], weatherdf[\"Cloudiness\"], color = \"blue\")\n",
    "plt.title(\"City Latitude vs Cloudiness\")\n",
    "plt.xlabel(\"Latitude\")\n",
    "plt.ylabel(\"Cloudiness\")\n",
    "plt.grid()\n",
    "plt.savefig(\"Images/City Latitude vs Cloudiness.png\")"
   ]
  },
  {
   "cell_type": "markdown",
   "metadata": {},
   "source": [
    "## Latitude vs. Wind Speed Plot"
   ]
  },
  {
   "cell_type": "code",
   "execution_count": 51,
   "metadata": {},
   "outputs": [
    {
     "data": {
      "image/png": "[encoded data removed]",
      "text/plain": [
       "<Figure size 432x288 with 1 Axes>"
      ]
     },
     "metadata": {
      "needs_background": "light"
     },
     "output_type": "display_data"
    }
   ],
   "source": [
    "plt.scatter(weatherdf[\"Lat\"], weatherdf[\"Wind Speed\"], color = \"blue\")\n",
    "plt.title(\"City Latitude vs Wind Speed\")\n",
    "plt.xlabel(\"Latitude\")\n",
    "plt.ylabel(\"Wind Speed (mph)\")\n",
    "plt.grid()\n",
    "plt.savefig(\"Images/City Latitude vs Wind Speed.png\")"
   ]
  },
  {
   "cell_type": "markdown",
   "metadata": {},
   "source": [
    "## Linear Regression"
   ]
  },
  {
   "cell_type": "code",
   "execution_count": 56,
   "metadata": {},
   "outputs": [],
   "source": [
    "northern = weatherdf.loc[weatherdf[\"Lat\"] >= 0.0]\n",
    "northern.reset_index(inplace=True)\n",
    "\n",
    "southern = weatherdf.loc[weatherdf[\"Lat\"] < 0.0]\n",
    "southern.reset_index(inplace=True)"
   ]
  },
  {
   "cell_type": "code",
   "execution_count": 57,
   "metadata": {},
   "outputs": [
    {
     "data": {
      "text/html": [
       "<div>\n",
       "<style scoped>\n",
       "    .dataframe tbody tr th:only-of-type {\n",
       "        vertical-align: middle;\n",
       "    }\n",
       "\n",
       "    .dataframe tbody tr th {\n",
       "        vertical-align: top;\n",
       "    }\n",
       "\n",
       "    .dataframe thead th {\n",
       "        text-align: right;\n",
       "    }\n",
       "</style>\n",
       "<table border=\"1\" class=\"dataframe\">\n",
       "  <thead>\n",
       "    <tr style=\"text-align: right;\">\n",
       "      <th></th>\n",
       "      <th>index</th>\n",
       "      <th>City</th>\n",
       "      <th>Lat</th>\n",
       "      <th>Lng</th>\n",
       "      <th>Max Temp</th>\n",
       "      <th>Humidity</th>\n",
       "      <th>Cloudiness</th>\n",
       "      <th>Wind Speed</th>\n",
       "      <th>Country</th>\n",
       "      <th>Date</th>\n",
       "    </tr>\n",
       "  </thead>\n",
       "  <tbody>\n",
       "    <tr>\n",
       "      <th>0</th>\n",
       "      <td>1</td>\n",
       "      <td>Severo-Kuril'sk</td>\n",
       "      <td>50.6789</td>\n",
       "      <td>156.1250</td>\n",
       "      <td>280.76</td>\n",
       "      <td>86</td>\n",
       "      <td>25</td>\n",
       "      <td>6.72</td>\n",
       "      <td>RU</td>\n",
       "      <td>1635228125</td>\n",
       "    </tr>\n",
       "    <tr>\n",
       "      <th>1</th>\n",
       "      <td>2</td>\n",
       "      <td>Provideniya</td>\n",
       "      <td>64.3833</td>\n",
       "      <td>-173.3000</td>\n",
       "      <td>266.21</td>\n",
       "      <td>58</td>\n",
       "      <td>75</td>\n",
       "      <td>4.00</td>\n",
       "      <td>RU</td>\n",
       "      <td>1635228126</td>\n",
       "    </tr>\n",
       "    <tr>\n",
       "      <th>2</th>\n",
       "      <td>5</td>\n",
       "      <td>Barrow</td>\n",
       "      <td>71.2906</td>\n",
       "      <td>-156.7887</td>\n",
       "      <td>269.16</td>\n",
       "      <td>80</td>\n",
       "      <td>90</td>\n",
       "      <td>4.63</td>\n",
       "      <td>US</td>\n",
       "      <td>1635228130</td>\n",
       "    </tr>\n",
       "    <tr>\n",
       "      <th>3</th>\n",
       "      <td>6</td>\n",
       "      <td>Ponta do Sol</td>\n",
       "      <td>32.6667</td>\n",
       "      <td>-17.1000</td>\n",
       "      <td>294.10</td>\n",
       "      <td>69</td>\n",
       "      <td>11</td>\n",
       "      <td>3.30</td>\n",
       "      <td>PT</td>\n",
       "      <td>1635228132</td>\n",
       "    </tr>\n",
       "    <tr>\n",
       "      <th>4</th>\n",
       "      <td>7</td>\n",
       "      <td>Altay</td>\n",
       "      <td>47.8667</td>\n",
       "      <td>88.1167</td>\n",
       "      <td>284.11</td>\n",
       "      <td>43</td>\n",
       "      <td>7</td>\n",
       "      <td>0.30</td>\n",
       "      <td>CN</td>\n",
       "      <td>1635228133</td>\n",
       "    </tr>\n",
       "  </tbody>\n",
       "</table>\n",
       "</div>"
      ],
      "text/plain": [
       "   index             City      Lat       Lng  Max Temp  Humidity  Cloudiness  \\\n",
       "0      1  Severo-Kuril'sk  50.6789  156.1250    280.76        86          25   \n",
       "1      2      Provideniya  64.3833 -173.3000    266.21        58          75   \n",
       "2      5           Barrow  71.2906 -156.7887    269.16        80          90   \n",
       "3      6     Ponta do Sol  32.6667  -17.1000    294.10        69          11   \n",
       "4      7            Altay  47.8667   88.1167    284.11        43           7   \n",
       "\n",
       "   Wind Speed Country        Date  \n",
       "0        6.72      RU  1635228125  \n",
       "1        4.00      RU  1635228126  \n",
       "2        4.63      US  1635228130  \n",
       "3        3.30      PT  1635228132  \n",
       "4        0.30      CN  1635228133  "
      ]
     },
     "execution_count": 57,
     "metadata": {},
     "output_type": "execute_result"
    }
   ],
   "source": [
    "northern.head()"
   ]
  },
  {
   "cell_type": "code",
   "execution_count": 58,
   "metadata": {},
   "outputs": [
    {
     "data": {
      "text/html": [
       "<div>\n",
       "<style scoped>\n",
       "    .dataframe tbody tr th:only-of-type {\n",
       "        vertical-align: middle;\n",
       "    }\n",
       "\n",
       "    .dataframe tbody tr th {\n",
       "        vertical-align: top;\n",
       "    }\n",
       "\n",
       "    .dataframe thead th {\n",
       "        text-align: right;\n",
       "    }\n",
       "</style>\n",
       "<table border=\"1\" class=\"dataframe\">\n",
       "  <thead>\n",
       "    <tr style=\"text-align: right;\">\n",
       "      <th></th>\n",
       "      <th>index</th>\n",
       "      <th>City</th>\n",
       "      <th>Lat</th>\n",
       "      <th>Lng</th>\n",
       "      <th>Max Temp</th>\n",
       "      <th>Humidity</th>\n",
       "      <th>Cloudiness</th>\n",
       "      <th>Wind Speed</th>\n",
       "      <th>Country</th>\n",
       "      <th>Date</th>\n",
       "    </tr>\n",
       "  </thead>\n",
       "  <tbody>\n",
       "    <tr>\n",
       "      <th>0</th>\n",
       "      <td>0</td>\n",
       "      <td>Mangaratiba</td>\n",
       "      <td>-22.9597</td>\n",
       "      <td>-44.0406</td>\n",
       "      <td>294.28</td>\n",
       "      <td>89</td>\n",
       "      <td>100</td>\n",
       "      <td>0.78</td>\n",
       "      <td>BR</td>\n",
       "      <td>1635228123</td>\n",
       "    </tr>\n",
       "    <tr>\n",
       "      <th>1</th>\n",
       "      <td>3</td>\n",
       "      <td>New Norfolk</td>\n",
       "      <td>-42.7826</td>\n",
       "      <td>147.0587</td>\n",
       "      <td>290.31</td>\n",
       "      <td>50</td>\n",
       "      <td>2</td>\n",
       "      <td>0.45</td>\n",
       "      <td>AU</td>\n",
       "      <td>1635228128</td>\n",
       "    </tr>\n",
       "    <tr>\n",
       "      <th>2</th>\n",
       "      <td>4</td>\n",
       "      <td>Christchurch</td>\n",
       "      <td>-43.5333</td>\n",
       "      <td>172.6333</td>\n",
       "      <td>288.68</td>\n",
       "      <td>85</td>\n",
       "      <td>90</td>\n",
       "      <td>0.45</td>\n",
       "      <td>NZ</td>\n",
       "      <td>1635228002</td>\n",
       "    </tr>\n",
       "    <tr>\n",
       "      <th>3</th>\n",
       "      <td>12</td>\n",
       "      <td>Bengkulu</td>\n",
       "      <td>-3.8004</td>\n",
       "      <td>102.2655</td>\n",
       "      <td>301.67</td>\n",
       "      <td>70</td>\n",
       "      <td>100</td>\n",
       "      <td>3.30</td>\n",
       "      <td>ID</td>\n",
       "      <td>1635228141</td>\n",
       "    </tr>\n",
       "    <tr>\n",
       "      <th>4</th>\n",
       "      <td>13</td>\n",
       "      <td>Geraldton</td>\n",
       "      <td>-28.7667</td>\n",
       "      <td>114.6000</td>\n",
       "      <td>292.38</td>\n",
       "      <td>48</td>\n",
       "      <td>75</td>\n",
       "      <td>6.69</td>\n",
       "      <td>AU</td>\n",
       "      <td>1635227882</td>\n",
       "    </tr>\n",
       "  </tbody>\n",
       "</table>\n",
       "</div>"
      ],
      "text/plain": [
       "   index          City      Lat       Lng  Max Temp  Humidity  Cloudiness  \\\n",
       "0      0   Mangaratiba -22.9597  -44.0406    294.28        89         100   \n",
       "1      3   New Norfolk -42.7826  147.0587    290.31        50           2   \n",
       "2      4  Christchurch -43.5333  172.6333    288.68        85          90   \n",
       "3     12      Bengkulu  -3.8004  102.2655    301.67        70         100   \n",
       "4     13     Geraldton -28.7667  114.6000    292.38        48          75   \n",
       "\n",
       "   Wind Speed Country        Date  \n",
       "0        0.78      BR  1635228123  \n",
       "1        0.45      AU  1635228128  \n",
       "2        0.45      NZ  1635228002  \n",
       "3        3.30      ID  1635228141  \n",
       "4        6.69      AU  1635227882  "
      ]
     },
     "execution_count": 58,
     "metadata": {},
     "output_type": "execute_result"
    }
   ],
   "source": [
    "southern.head()"
   ]
  },
  {
   "cell_type": "code",
   "execution_count": 59,
   "metadata": {},
   "outputs": [],
   "source": [
    "# Northern Hemisphere - Temperature (F) vs. Latitude\n",
    "# Southern Hemisphere - Temperature (F) vs. Latitude\n",
    "# Northern Hemisphere - Humidity (%) vs. Latitude\n",
    "# Southern Hemisphere - Humidity (%) vs. Latitude\n",
    "# Northern Hemisphere - Cloudiness (%) vs. Latitude\n",
    "# Southern Hemisphere - Cloudiness (%) vs. Latitude\n",
    "# Northern Hemisphere - Wind Speed (mph) vs. Latitude\n",
    "# Southern Hemisphere - Wind Speed (mph) vs. Latitude\n",
    "northlat = northern[\"Lat\"]\n",
    "northtemp = northern[\"Max Temp\"]\n",
    "northhum = northern[\"Humidity\"]\n",
    "northcloud = northern[\"Cloudiness\"]\n",
    "northwind = northern[\"Wind Speed\"]\n",
    "\n",
    "southlat = southern[\"Lat\"]\n",
    "southtemp = southern[\"Max Temp\"]\n",
    "southhum = southern[\"Humidity\"]\n",
    "southcloud = southern[\"Cloudiness\"]\n",
    "southwind = southern[\"Wind Speed\"]"
   ]
  },
  {
   "cell_type": "markdown",
   "metadata": {},
   "source": [
    "####  Northern Hemisphere - Max Temp vs. Latitude Linear Regression"
   ]
  },
  {
   "cell_type": "code",
   "execution_count": 64,
   "metadata": {},
   "outputs": [
    {
     "name": "stdout",
     "output_type": "stream",
     "text": [
      "The r-value is -0.9026407665966614\n"
     ]
    },
    {
     "data": {
      "image/png": "[encoded data removed]",
      "text/plain": [
       "<Figure size 432x288 with 1 Axes>"
      ]
     },
     "metadata": {
      "needs_background": "light"
     },
     "output_type": "display_data"
    }
   ],
   "source": [
    "plt.scatter(northlat, northtemp)\n",
    "\n",
    "slope, intercept, r, p, std_err = linregress(northlat, northtemp)\n",
    "fit = slope * northlat + intercept\n",
    "plt.plot(northlat,fit,color=\"red\")\n",
    "print(f\"The r-value is {r}\")\n",
    "\n",
    "plt.xlabel(\"Latitude\")\n",
    "plt.ylabel(\"Max Temp\")\n",
    "plt.title(\"Northern Hemisphere - Max Temp vs. Latitude Linear Regression\")\n",
    "plt.savefig(\"Images/Northern Max Temp vs Lat Linear Regression.png\")\n",
    "\n",
    "plt.show()"
   ]
  },
  {
   "cell_type": "markdown",
   "metadata": {},
   "source": [
    "####  Southern Hemisphere - Max Temp vs. Latitude Linear Regression"
   ]
  },
  {
   "cell_type": "code",
   "execution_count": 65,
   "metadata": {},
   "outputs": [
    {
     "name": "stdout",
     "output_type": "stream",
     "text": [
      "The r-value is 0.6521232117594247\n"
     ]
    },
    {
     "data": {
      "image/png": "[encoded data removed]",
      "text/plain": [
       "<Figure size 432x288 with 1 Axes>"
      ]
     },
     "metadata": {
      "needs_background": "light"
     },
     "output_type": "display_data"
    }
   ],
   "source": [
    "plt.scatter(southlat, southtemp)\n",
    "\n",
    "slope, intercept, r, p, std_err = linregress(southlat, southtemp)\n",
    "fit = slope * southlat + intercept\n",
    "plt.plot(southlat,fit,color=\"red\")\n",
    "print(f\"The r-value is {r}\")\n",
    "\n",
    "plt.xlabel(\"Latitude\")\n",
    "plt.ylabel(\"Max Temp\")\n",
    "plt.title(\"Southern Hemisphere - Max Temp vs. Latitude Linear Regression\")\n",
    "plt.savefig(\"Images/Southern Max Temp vs Lat Linear Regression.png\")\n",
    "\n",
    "plt.show()"
   ]
  },
  {
   "cell_type": "markdown",
   "metadata": {},
   "source": [
    "####  Northern Hemisphere - Humidity (%) vs. Latitude Linear Regression"
   ]
  },
  {
   "cell_type": "code",
   "execution_count": 66,
   "metadata": {},
   "outputs": [
    {
     "name": "stdout",
     "output_type": "stream",
     "text": [
      "The r-value is 0.1462811355789922\n"
     ]
    },
    {
     "data": {
      "image/png": "[encoded data removed]",
      "text/plain": [
       "<Figure size 432x288 with 1 Axes>"
      ]
     },
     "metadata": {
      "needs_background": "light"
     },
     "output_type": "display_data"
    }
   ],
   "source": [
    "plt.scatter(northlat, northhum)\n",
    "\n",
    "slope, intercept, r, p, std_err = linregress(northlat, northhum)\n",
    "fit = slope * northlat + intercept\n",
    "plt.plot(northlat,fit,color=\"red\")\n",
    "print(f\"The r-value is {r}\")\n",
    "\n",
    "plt.xlabel(\"Latitude\")\n",
    "plt.ylabel(\"Humidity\")\n",
    "plt.title(\"Northern Hemisphere - Humidity (%) vs. Latitude Linear Regression\")\n",
    "plt.savefig(\"Images/Northern Humidity vs Lat Linear Regression.png\")\n",
    "\n",
    "plt.show()"
   ]
  },
  {
   "cell_type": "markdown",
   "metadata": {},
   "source": [
    "####  Southern Hemisphere - Humidity (%) vs. Latitude Linear Regression"
   ]
  },
  {
   "cell_type": "code",
   "execution_count": 67,
   "metadata": {},
   "outputs": [
    {
     "name": "stdout",
     "output_type": "stream",
     "text": [
      "The r-value is 0.10405098738487802\n"
     ]
    },
    {
     "data": {
      "image/png": "[encoded data removed]",
      "text/plain": [
       "<Figure size 432x288 with 1 Axes>"
      ]
     },
     "metadata": {
      "needs_background": "light"
     },
     "output_type": "display_data"
    }
   ],
   "source": [
    "plt.scatter(southlat, southhum)\n",
    "\n",
    "slope, intercept, r, p, std_err = linregress(southlat, southhum)\n",
    "fit = slope * southlat + intercept\n",
    "plt.plot(southlat,fit,color=\"red\")\n",
    "print(f\"The r-value is {r}\")\n",
    "\n",
    "plt.xlabel(\"Latitude\")\n",
    "plt.ylabel(\"Humidity\")\n",
    "plt.title(\"Southern Hemisphere - Humidity (%) vs. Latitude Linear Regression\")\n",
    "plt.savefig(\"Images/Southern Humidity vs Lat Linear Regression.png\")\n",
    "\n",
    "plt.show()"
   ]
  },
  {
   "cell_type": "markdown",
   "metadata": {},
   "source": [
    "####  Northern Hemisphere - Cloudiness (%) vs. Latitude Linear Regression"
   ]
  },
  {
   "cell_type": "code",
   "execution_count": 69,
   "metadata": {},
   "outputs": [
    {
     "name": "stdout",
     "output_type": "stream",
     "text": [
      "The r-value is 0.11675982640867284\n"
     ]
    },
    {
     "data": {
      "image/png": "[encoded data removed]",
      "text/plain": [
       "<Figure size 432x288 with 1 Axes>"
      ]
     },
     "metadata": {
      "needs_background": "light"
     },
     "output_type": "display_data"
    }
   ],
   "source": [
    "plt.scatter(northlat, northcloud)\n",
    "\n",
    "slope, intercept, r, p, std_err = linregress(northlat, northcloud)\n",
    "fit = slope * northlat + intercept\n",
    "plt.plot(northlat,fit,color=\"red\")\n",
    "print(f\"The r-value is {r}\")\n",
    "\n",
    "plt.xlabel(\"Latitude\")\n",
    "plt.ylabel(\"Cloudiness\")\n",
    "plt.title(\"Northern Hemisphere - Cloudiness (%) vs. Latitude Linear Regression\")\n",
    "plt.savefig(\"Images/Northern Cloudiness vs Lat Linear Regression.png\")\n",
    "\n",
    "plt.show()"
   ]
  },
  {
   "cell_type": "markdown",
   "metadata": {},
   "source": [
    "####  Southern Hemisphere - Cloudiness (%) vs. Latitude Linear Regression"
   ]
  },
  {
   "cell_type": "code",
   "execution_count": 70,
   "metadata": {},
   "outputs": [
    {
     "name": "stdout",
     "output_type": "stream",
     "text": [
      "The r-value is 0.13161606193459832\n"
     ]
    },
    {
     "data": {
      "image/png": "[encoded data removed]",
      "text/plain": [
       "<Figure size 432x288 with 1 Axes>"
      ]
     },
     "metadata": {
      "needs_background": "light"
     },
     "output_type": "display_data"
    }
   ],
   "source": [
    "plt.scatter(southlat, southcloud)\n",
    "\n",
    "slope, intercept, r, p, std_err = linregress(southlat, southcloud)\n",
    "fit = slope * southlat + intercept\n",
    "plt.plot(southlat,fit,color=\"red\")\n",
    "print(f\"The r-value is {r}\")\n",
    "\n",
    "plt.xlabel(\"Latitude\")\n",
    "plt.ylabel(\"Cloudiness\")\n",
    "plt.title(\"Southern Hemisphere - Cloudiness (%) vs. Latitude Linear Regression\")\n",
    "plt.savefig(\"Images/Southern Cloudiness vs Lat Linear Regression.png\")\n",
    "\n",
    "plt.show()"
   ]
  },
  {
   "cell_type": "markdown",
   "metadata": {},
   "source": [
    "####  Northern Hemisphere - Wind Speed (mph) vs. Latitude Linear Regression"
   ]
  },
  {
   "cell_type": "code",
   "execution_count": 71,
   "metadata": {},
   "outputs": [
    {
     "name": "stdout",
     "output_type": "stream",
     "text": [
      "The r-value is 0.0986740185736454\n"
     ]
    },
    {
     "data": {
      "image/png": "[encoded data removed]",
      "text/plain": [
       "<Figure size 432x288 with 1 Axes>"
      ]
     },
     "metadata": {
      "needs_background": "light"
     },
     "output_type": "display_data"
    }
   ],
   "source": [
    "plt.scatter(northlat, northwind)\n",
    "\n",
    "slope, intercept, r, p, std_err = linregress(northlat, northwind)\n",
    "fit = slope * northlat + intercept\n",
    "plt.plot(northlat,fit,color=\"red\")\n",
    "print(f\"The r-value is {r}\")\n",
    "\n",
    "plt.xlabel(\"Latitude\")\n",
    "plt.ylabel(\"Wind Speed\")\n",
    "plt.title(\"Northern Hemisphere - Wind Speed (mph) vs. Latitude Linear Regression\")\n",
    "plt.savefig(\"Images/Northern Wind vs Lat Linear Regression.png\")\n",
    "\n",
    "plt.show()"
   ]
  },
  {
   "cell_type": "markdown",
   "metadata": {},
   "source": [
    "####  Southern Hemisphere - Wind Speed (mph) vs. Latitude Linear Regression"
   ]
  },
  {
   "cell_type": "code",
   "execution_count": 72,
   "metadata": {},
   "outputs": [
    {
     "name": "stdout",
     "output_type": "stream",
     "text": [
      "The r-value is -0.14845911900413888\n"
     ]
    },
    {
     "data": {
      "image/png": "[encoded data removed]",
      "text/plain": [
       "<Figure size 432x288 with 1 Axes>"
      ]
     },
     "metadata": {
      "needs_background": "light"
     },
     "output_type": "display_data"
    }
   ],
   "source": [
    "plt.scatter(southlat, southwind)\n",
    "\n",
    "slope, intercept, r, p, std_err = linregress(southlat, southwind)\n",
    "fit = slope * southlat + intercept\n",
    "plt.plot(southlat,fit,color=\"red\")\n",
    "print(f\"The r-value is {r}\")\n",
    "\n",
    "plt.xlabel(\"Latitude\")\n",
    "plt.ylabel(\"Wind Speed\")\n",
    "plt.title(\"Southern Hemisphere - Wind Speed (mph) vs. Latitude Linear Regression\")\n",
    "plt.savefig(\"Images/Southern Wind vs Lat Linear Regression.png\")\n",
    "\n",
    "plt.show()"
   ]
  },
  {
   "cell_type": "markdown",
   "metadata": {},
   "source": [
    "TRENDS: \n",
    "\n",
    "1) Temperature is highest near the equator, and gets cooler the further distance away from the equator.\n",
    "2) Latitude does not seem to have a signifcant effect on both cloudiness and wind speed, data is skewed with no significant trends that show any relationship or correlation between those variables.\n",
    "3) The further south of the equator, the less cloudy it becomes, while the further north of the equator, the cloudiness tends to rise. "
   ]
  }
 ],
 "metadata": {
  "anaconda-cloud": {},
  "kernel_info": {
   "name": "python3"
  },
  "kernelspec": {
   "display_name": "Python 3",
   "language": "python",
   "name": "python3"
  },
  "language_info": {
   "codemirror_mode": {
    "name": "ipython",
    "version": 3
   },
   "file_extension": ".py",
   "mimetype": "text/x-python",
   "name": "python",
   "nbconvert_exporter": "python",
   "pygments_lexer": "ipython3",
   "version": "3.8.8"
  },
  "latex_envs": {
   "LaTeX_envs_menu_present": true,
   "autoclose": false,
   "autocomplete": true,
   "bibliofile": "biblio.bib",
   "cite_by": "apalike",
   "current_citInitial": 1,
   "eqLabelWithNumbers": true,
   "eqNumInitial": 1,
   "hotkeys": {
    "equation": "Ctrl-E",
    "itemize": "Ctrl-I"
   },
   "labels_anchors": false,
   "latex_user_defs": false,
   "report_style_numbering": false,
   "user_envs_cfg": false
  },
  "nteract": {
   "version": "0.12.3"
  }
 },
 "nbformat": 4,
 "nbformat_minor": 2
}
